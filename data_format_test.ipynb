{
 "cells": [
  {
   "cell_type": "code",
   "execution_count": 3,
   "metadata": {},
   "outputs": [],
   "source": [
    "import pandas as pd"
   ]
  },
  {
   "cell_type": "code",
   "execution_count": 5,
   "metadata": {},
   "outputs": [],
   "source": [
    "def validate_train_data(file_path):\n",
    "    \"\"\"\n",
    "    Функція для перевірки коректності підготовлених даних для моделі BERT.\n",
    "    :param file_path: str, шлях до файлу train_data.csv\n",
    "    :return: None (друкує результати перевірки)\n",
    "    \"\"\"\n",
    "    try:\n",
    "        # Завантаження даних\n",
    "        data = pd.read_csv(file_path)\n",
    "\n",
    "        print(\"\\nПеревірка структури файлу csv\")\n",
    "        print(\"--------------------------------------------------\")\n",
    "\n",
    "        # Перевірка, що файл завантажено коректно\n",
    "        if data.empty:\n",
    "            raise ValueError(\"Файл csv порожній.\")\n",
    "\n",
    "        # Перевірка обов'язкових колонок\n",
    "        required_columns = [\"input_ids\", \"attention_masks\", \"toxic\", \"severe_toxic\", \"obscene\", \"threat\", \"insult\", \"identity_hate\"]\n",
    "        missing_columns = [col for col in required_columns if col not in data.columns]\n",
    "        if missing_columns:\n",
    "            raise ValueError(f\"Відсутні обов'язкові колонки: {', '.join(missing_columns)}\")\n",
    "\n",
    "        print(\"✔ Усі обов'язкові колонки присутні.\")\n",
    "\n",
    "        # Перевірка розміру даних\n",
    "        num_rows = len(data)\n",
    "        print(f\"✔ Файл містить {num_rows} рядків.\")\n",
    "\n",
    "        if num_rows < 100:\n",
    "            print(\"⚠ Попередження: Мала кількість рядків. Можливо, дані неповні.\")\n",
    "\n",
    "        # Перевірка коректності формату input_ids і attention_masks\n",
    "        for col in [\"input_ids\", \"attention_masks\"]:\n",
    "            if not data[col].apply(lambda x: isinstance(x, str)).all():\n",
    "                raise ValueError(f\"Колонка {col} містить некоректні дані. Очікувався строковий формат JSON.\")\n",
    "\n",
    "        print(\"✔ Формат колонок input_ids і attention_masks коректний.\")\n",
    "\n",
    "        # Перевірка міток (toxic, severe_toxic, obscene, threat, insult, identity_hate)\n",
    "        for label in required_columns[2:]:\n",
    "            unique_values = data[label].unique()\n",
    "            if not set(unique_values).issubset({0, 1}):\n",
    "                raise ValueError(f\"Колонка {label} містить некоректні значення: {unique_values}. Очікувались тільки 0 або 1.\")\n",
    "\n",
    "        print(\"✔ Формат міток коректний.\")\n",
    "\n",
    "        print(\"\\nФайл csv успішно пройшов усі перевірки!\")\n",
    "\n",
    "    except Exception as e:\n",
    "        print(f\"Помилка перевірки даних: {e}\")"
   ]
  },
  {
   "cell_type": "code",
   "execution_count": 6,
   "metadata": {},
   "outputs": [
    {
     "name": "stdout",
     "output_type": "stream",
     "text": [
      "\n",
      "Перевірка структури файлу csv\n",
      "--------------------------------------------------\n",
      "✔ Усі обов'язкові колонки присутні.\n",
      "✔ Файл містить 159571 рядків.\n",
      "✔ Формат колонок input_ids і attention_masks коректний.\n",
      "✔ Формат міток коректний.\n",
      "\n",
      "Файл csv успішно пройшов усі перевірки!\n"
     ]
    }
   ],
   "source": [
    "validate_train_data(\"train_data.csv\")"
   ]
  },
  {
   "cell_type": "code",
   "execution_count": 8,
   "metadata": {},
   "outputs": [
    {
     "name": "stdout",
     "output_type": "stream",
     "text": [
      "\n",
      "Перевірка структури файлу csv\n",
      "--------------------------------------------------\n",
      "✔ Усі обов'язкові колонки присутні.\n",
      "✔ Файл містить 63978 рядків.\n",
      "✔ Формат колонок input_ids і attention_masks коректний.\n",
      "✔ Формат міток коректний.\n",
      "\n",
      "Файл csv успішно пройшов усі перевірки!\n"
     ]
    }
   ],
   "source": [
    "validate_train_data(\"test_data.csv\")"
   ]
  },
  {
   "cell_type": "code",
   "execution_count": 13,
   "metadata": {},
   "outputs": [],
   "source": [
    "train = pd.read_csv('train_data.csv')\n",
    "test = pd.read_csv('test_data.csv')"
   ]
  },
  {
   "cell_type": "code",
   "execution_count": 14,
   "metadata": {},
   "outputs": [],
   "source": [
    "import tensorflow as tf\n",
    "from transformers import TFBertForSequenceClassification\n",
    "from sklearn.metrics import classification_report, multilabel_confusion_matrix\n",
    "from sklearn.utils import resample\n",
    "from sklearn.model_selection import train_test_split\n",
    "import numpy as np\n",
    "import pandas as pd\n",
    "from tensorflow.keras.callbacks import EarlyStopping\n",
    "from tensorflow.keras.optimizers import Adam\n",
    "from transformers import TFBertModel\n",
    "from tensorflow.keras.layers import Input, Layer, Dense\n",
    "from tensorflow.keras.models import Model"
   ]
  },
  {
   "cell_type": "code",
   "execution_count": 15,
   "metadata": {},
   "outputs": [
    {
     "name": "stdout",
     "output_type": "stream",
     "text": [
      "input_ids dtype: int32\n",
      "attention_mask dtype: int32\n",
      "labels dtype: float32\n",
      "Lengths match: True\n"
     ]
    }
   ],
   "source": [
    "# список категорій:\n",
    "LABEL_COLUMNS = ['toxic', 'severe_toxic', 'obscene', 'threat', 'insult', 'identity_hate']\n",
    "\n",
    "# Конвертація токенізованих даних з рядків у масиви\n",
    "for column in ['input_ids', 'attention_masks']:\n",
    "    test[column] = test[column].apply(eval).apply(np.array)\n",
    "\n",
    "# Виділяємо токенізовані вектори та мітки\n",
    "input_ids = np.stack(test['input_ids'].values)\n",
    "attention_mask = np.stack(test['attention_masks'].values)\n",
    "labels = np.array(test[LABEL_COLUMNS].values)\n",
    "labels = labels.astype('float32')\n",
    "\n",
    "# Розділення на тренувальну та тестову вибірки\n",
    "\n",
    "train_input_ids, val_input_ids, train_attention_mask, val_attention_mask, train_labels, val_labels = train_test_split(\n",
    "    input_ids, attention_mask, labels, test_size=0.2, random_state=42\n",
    ")\n",
    "\n",
    "# Перевірка форматів даних \n",
    "print(\"input_ids dtype:\", input_ids.dtype)\n",
    "print(\"attention_mask dtype:\", attention_mask.dtype)\n",
    "print(\"labels dtype:\", labels.dtype)\n",
    "\n",
    "# Перевірка довжини даних\n",
    "print(\"Lengths match:\", len(input_ids) == len(attention_mask) == len(labels))"
   ]
  },
  {
   "cell_type": "code",
   "execution_count": 16,
   "metadata": {},
   "outputs": [
    {
     "name": "stdout",
     "output_type": "stream",
     "text": [
      "input_ids dtype: int32\n",
      "attention_mask dtype: int32\n",
      "labels dtype: float32\n",
      "Lengths match: True\n"
     ]
    }
   ],
   "source": [
    "# список категорій:\n",
    "LABEL_COLUMNS = ['toxic', 'severe_toxic', 'obscene', 'threat', 'insult', 'identity_hate']\n",
    "\n",
    "# Конвертація токенізованих даних з рядків у масиви\n",
    "for column in ['input_ids', 'attention_masks']:\n",
    "    train[column] = train[column].apply(eval).apply(np.array)\n",
    "\n",
    "# Виділяємо токенізовані вектори та мітки\n",
    "input_ids = np.stack(train['input_ids'].values)\n",
    "attention_mask = np.stack(train['attention_masks'].values)\n",
    "labels = np.array(train[LABEL_COLUMNS].values)\n",
    "labels = labels.astype('float32')\n",
    "\n",
    "# Розділення на тренувальну та тестову вибірки\n",
    "\n",
    "train_input_ids, val_input_ids, train_attention_mask, val_attention_mask, train_labels, val_labels = train_test_split(\n",
    "    input_ids, attention_mask, labels, test_size=0.2, random_state=42\n",
    ")\n",
    "\n",
    "# Перевірка форматів даних \n",
    "print(\"input_ids dtype:\", input_ids.dtype)\n",
    "print(\"attention_mask dtype:\", attention_mask.dtype)\n",
    "print(\"labels dtype:\", labels.dtype)\n",
    "\n",
    "# Перевірка довжини даних\n",
    "print(\"Lengths match:\", len(input_ids) == len(attention_mask) == len(labels))"
   ]
  }
 ],
 "metadata": {
  "kernelspec": {
   "display_name": "new_conda_env",
   "language": "python",
   "name": "python3"
  },
  "language_info": {
   "codemirror_mode": {
    "name": "ipython",
    "version": 3
   },
   "file_extension": ".py",
   "mimetype": "text/x-python",
   "name": "python",
   "nbconvert_exporter": "python",
   "pygments_lexer": "ipython3",
   "version": "3.9.18"
  }
 },
 "nbformat": 4,
 "nbformat_minor": 2
}
