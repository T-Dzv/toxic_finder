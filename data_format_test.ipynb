{
 "cells": [
  {
   "cell_type": "code",
   "execution_count": 1,
   "metadata": {},
   "outputs": [],
   "source": [
    "import pandas as pd"
   ]
  },
  {
   "cell_type": "code",
   "execution_count": null,
   "metadata": {},
   "outputs": [],
   "source": [
    "def validate_train_data(file_path):\n",
    "    \"\"\"\n",
    "    Функція для перевірки коректності підготовлених даних для моделі BERT.\n",
    "    :param file_path: str, шлях до файлу train_data.csv\n",
    "    :return: None (друкує результати перевірки)\n",
    "    \"\"\"\n",
    "    try:\n",
    "        # Завантаження даних\n",
    "        data = pd.read_csv(file_path)\n",
    "\n",
    "        print(\"\\nПеревірка структури файлу csv\")\n",
    "        print(\"--------------------------------------------------\")\n",
    "\n",
    "        # Перевірка, що файл завантажено коректно\n",
    "        if data.empty:\n",
    "            raise ValueError(\"Файл csv порожній.\")\n",
    "\n",
    "        # Перевірка обов'язкових колонок\n",
    "        required_columns = [\"input_ids\", \"attention_masks\", \"toxic\", \"severe_toxic\", \"obscene\", \"threat\", \"insult\", \"identity_hate\"]\n",
    "        missing_columns = [col for col in required_columns if col not in data.columns]\n",
    "        if missing_columns:\n",
    "            raise ValueError(f\"Відсутні обов'язкові колонки: {', '.join(missing_columns)}\")\n",
    "\n",
    "        print(\"✔ Усі обов'язкові колонки присутні.\")\n",
    "\n",
    "        # Перевірка розміру даних\n",
    "        num_rows = len(data)\n",
    "        print(f\"✔ Файл містить {num_rows} рядків.\")\n",
    "\n",
    "        if num_rows < 100:\n",
    "            print(\"⚠ Попередження: Мала кількість рядків. Можливо, дані неповні.\")\n",
    "\n",
    "        # Перевірка коректності формату input_ids і attention_masks\n",
    "        for col in [\"input_ids\", \"attention_masks\"]:\n",
    "            if not data[col].apply(lambda x: isinstance(x, str)).all():\n",
    "                raise ValueError(f\"Колонка {col} містить некоректні дані. Очікувався строковий формат JSON.\")\n",
    "\n",
    "        print(\"✔ Формат колонок input_ids і attention_masks коректний.\")\n",
    "\n",
    "        # Перевірка міток (toxic, severe_toxic, obscene, threat, insult, identity_hate)\n",
    "        for label in required_columns[2:]:\n",
    "            unique_values = data[label].unique()\n",
    "            if not set(unique_values).issubset({0, 1}):\n",
    "                raise ValueError(f\"Колонка {label} містить некоректні значення: {unique_values}. Очікувались тільки 0 або 1.\")\n",
    "\n",
    "        print(\"✔ Формат міток коректний.\")\n",
    "\n",
    "        print(\"\\nФайл csv успішно пройшов усі перевірки!\")\n",
    "\n",
    "    except Exception as e:\n",
    "        print(f\"Помилка перевірки даних: {e}\")"
   ]
  },
  {
   "cell_type": "code",
   "execution_count": null,
   "metadata": {},
   "outputs": [],
   "source": []
  }
 ],
 "metadata": {
  "kernelspec": {
   "display_name": "venv",
   "language": "python",
   "name": "python3"
  },
  "language_info": {
   "codemirror_mode": {
    "name": "ipython",
    "version": 3
   },
   "file_extension": ".py",
   "mimetype": "text/x-python",
   "name": "python",
   "nbconvert_exporter": "python",
   "pygments_lexer": "ipython3",
   "version": "3.12.4"
  }
 },
 "nbformat": 4,
 "nbformat_minor": 2
}
